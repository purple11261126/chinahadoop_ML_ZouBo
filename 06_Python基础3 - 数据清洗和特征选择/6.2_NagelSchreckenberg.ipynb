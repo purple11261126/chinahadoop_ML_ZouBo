{
 "cells": [
  {
   "cell_type": "code",
   "execution_count": null,
   "metadata": {},
   "outputs": [],
   "source": [
    "import numpy as np\n",
    "import matplotlib as mpl\n",
    "import matplotlib.pyplot as plt\n",
    "\n",
    "\n",
    "def clip(x, path):\n",
    "    for i in range(len(x)):\n",
    "        if x[i] >= path:\n",
    "            x[i] %= path\n",
    "            \n",
    "if __name__ == '__main__':\n",
    "    mpl.rcParams['font.sans-serif'] = ['SimHei']\n",
    "    mpl.rcParams['axes.unicode_minus'] = False\n",
    "\n",
    "    path = 5000     # 环形公路的长度\n",
    "    n = 100         # 公路中的车辆数目\n",
    "    v0 = 50          # 车辆的初始速度\n",
    "    p = 0.3         # 随机减速概率\n",
    "    Times = 3000\n",
    "    \n",
    "    np.random.seed(0)  # 使每次随机数相同"
   ]
  }
 ],
 "metadata": {
  "kernelspec": {
   "display_name": "Python 3",
   "language": "python",
   "name": "python3"
  },
  "language_info": {
   "codemirror_mode": {
    "name": "ipython",
    "version": 3
   },
   "file_extension": ".py",
   "mimetype": "text/x-python",
   "name": "python",
   "nbconvert_exporter": "python",
   "pygments_lexer": "ipython3",
   "version": "3.6.5"
  }
 },
 "nbformat": 4,
 "nbformat_minor": 2
}
