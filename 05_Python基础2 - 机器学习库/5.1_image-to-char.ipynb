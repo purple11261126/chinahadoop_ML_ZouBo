{
 "cells": [
  {
   "cell_type": "code",
   "execution_count": 15,
   "metadata": {},
   "outputs": [
    {
     "name": "stdout",
     "output_type": "stream",
     "text": [
      "(100, 133)\n",
      "[[30 30 31 ... 30 28 27]\n",
      " [31 31 31 ... 31 30 29]\n",
      " [31 31 31 ... 31 31 30]\n",
      " ...\n",
      " [29 30 30 ... 25 24 23]\n",
      " [29 29 30 ... 24 23 22]\n",
      " [29 29 29 ... 23 23 22]]\n",
      "16\n"
     ]
    }
   ],
   "source": [
    "import numpy as np\n",
    "from PIL import Image\n",
    "\n",
    "if __name__ == '__main__':\n",
    "    image_file = './scc.jpg'\n",
    "    height = 100\n",
    "    \n",
    "    img = Image.open(image_file)\n",
    "    img_width, img_height = img.size\n",
    "    width = 2 * height * img_width // img_height\n",
    "    img = img.resize((width, height), Image.ANTIALIAS)  # img.resize() 改变图像尺寸（图像缩放）。\n",
    "    pixels = np.array(img.convert('L'))\n",
    "    print(pixels.shape)\n",
    "    print(pixels)\n",
    "    chars = 'MNHQ$OC?7>!:-;. '  # 字符串\n",
    "    N = len(chars)\n",
    "    step = 256 // N\n",
    "    print(N)\n",
    "    result = ''\n",
    "    for i in range(height):\n",
    "        for j in range(width):\n",
    "            result += chars[pixels[i][j] // step]\n",
    "        result += '\\n'\n",
    "        \n",
    "    with open('./scc.txt', mode='w') as f:\n",
    "        f.write(result)"
   ]
  }
 ],
 "metadata": {
  "kernelspec": {
   "display_name": "Python 3",
   "language": "python",
   "name": "python3"
  },
  "language_info": {
   "codemirror_mode": {
    "name": "ipython",
    "version": 3
   },
   "file_extension": ".py",
   "mimetype": "text/x-python",
   "name": "python",
   "nbconvert_exporter": "python",
   "pygments_lexer": "ipython3",
   "version": "3.6.5"
  }
 },
 "nbformat": 4,
 "nbformat_minor": 2
}
