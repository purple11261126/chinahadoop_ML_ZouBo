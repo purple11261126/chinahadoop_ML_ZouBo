{
 "cells": [
  {
   "cell_type": "code",
   "execution_count": 26,
   "metadata": {},
   "outputs": [
    {
     "name": "stdout",
     "output_type": "stream",
     "text": [
      "(100, 180)\n",
      "[[194 194 194 ... 194 194 195]\n",
      " [194 194 194 ... 194 194 195]\n",
      " [194 194 194 ... 194 194 195]\n",
      " ...\n",
      " [153 151 160 ... 194 194 195]\n",
      " [155 154 171 ... 194 194 195]\n",
      " [155 155 155 ... 194 194 195]]\n",
      "16\n"
     ]
    }
   ],
   "source": [
    "import numpy as np\n",
    "from PIL import Image\n",
    "\n",
    "if __name__ == '__main__':\n",
    "    image_file = './timg.jpg'\n",
    "    height = 100\n",
    "    \n",
    "    img = Image.open(image_file)\n",
    "    img_width, img_height = img.size\n",
    "    width = 2 * height * img_width // img_height\n",
    "    img = img.resize((width, height), Image.ANTIALIAS)  # img.resize() 改变图像尺寸（图像缩放）。\n",
    "    pixels = np.array(img.convert('L'))\n",
    "    print(pixels.shape)\n",
    "    print(pixels)\n",
    "    chars = 'MNHQ$OC?7>!:-;. '  # 字符串\n",
    "    N = len(chars)\n",
    "    step = 256 // N\n",
    "    print(N)\n",
    "    result = ''\n",
    "    for i in range(height):\n",
    "        for j in range(width):\n",
    "            result += chars[pixels[i][j] // step]\n",
    "        result += '\\n'\n",
    "        \n",
    "    with open('./timg.txt', mode='w') as f:\n",
    "        f.write(result)"
   ]
  },
  {
   "cell_type": "code",
   "execution_count": 19,
   "metadata": {},
   "outputs": [
    {
     "name": "stdout",
     "output_type": "stream",
     "text": [
      "[[194 194 194 ... 193 194 198]\n",
      " [194 194 194 ... 193 194 198]\n",
      " [194 194 194 ... 193 194 198]\n",
      " ...\n",
      " [155 155 155 ... 193 194 198]\n",
      " [155 155 155 ... 193 194 198]\n",
      " [155 155 155 ... 193 194 198]]\n",
      "0 255\n",
      "(1200, 1080)\n",
      "1200\n",
      "1080\n"
     ]
    },
    {
     "ename": "IndexError",
     "evalue": "string index out of range",
     "output_type": "error",
     "traceback": [
      "\u001b[1;31m---------------------------------------------------------------------------\u001b[0m",
      "\u001b[1;31mIndexError\u001b[0m                                Traceback (most recent call last)",
      "\u001b[1;32m<ipython-input-19-b16c54a7026b>\u001b[0m in \u001b[0;36m<module>\u001b[1;34m()\u001b[0m\n\u001b[0;32m     21\u001b[0m     \u001b[1;32mfor\u001b[0m \u001b[0mi\u001b[0m \u001b[1;32min\u001b[0m \u001b[0mrange\u001b[0m\u001b[1;33m(\u001b[0m\u001b[0mimg\u001b[0m\u001b[1;33m.\u001b[0m\u001b[0mheight\u001b[0m\u001b[1;33m)\u001b[0m\u001b[1;33m:\u001b[0m  \u001b[1;31m# 将数组中的值变为对应的字符，好像 pandas 有这个功能，回头找一下......\u001b[0m\u001b[1;33m\u001b[0m\u001b[0m\n\u001b[0;32m     22\u001b[0m         \u001b[1;32mfor\u001b[0m \u001b[0mj\u001b[0m \u001b[1;32min\u001b[0m \u001b[0mrange\u001b[0m\u001b[1;33m(\u001b[0m\u001b[0mimg\u001b[0m\u001b[1;33m.\u001b[0m\u001b[0mwidth\u001b[0m\u001b[1;33m)\u001b[0m\u001b[1;33m:\u001b[0m\u001b[1;33m\u001b[0m\u001b[0m\n\u001b[1;32m---> 23\u001b[1;33m             \u001b[0mresult\u001b[0m \u001b[1;33m+=\u001b[0m \u001b[0mchars\u001b[0m\u001b[1;33m[\u001b[0m\u001b[0mpixels\u001b[0m\u001b[1;33m[\u001b[0m\u001b[0mi\u001b[0m\u001b[1;33m]\u001b[0m\u001b[1;33m[\u001b[0m\u001b[0mj\u001b[0m\u001b[1;33m]\u001b[0m \u001b[1;33m//\u001b[0m \u001b[0mstep\u001b[0m\u001b[1;33m]\u001b[0m  \u001b[1;31m# 对应字符\u001b[0m\u001b[1;33m\u001b[0m\u001b[0m\n\u001b[0m\u001b[0;32m     24\u001b[0m         \u001b[0mresult\u001b[0m \u001b[1;33m+=\u001b[0m \u001b[1;34m'\\n'\u001b[0m  \u001b[1;31m# 每行最后换行\u001b[0m\u001b[1;33m\u001b[0m\u001b[0m\n\u001b[0;32m     25\u001b[0m \u001b[1;33m\u001b[0m\u001b[0m\n",
      "\u001b[1;31mIndexError\u001b[0m: string index out of range"
     ]
    }
   ],
   "source": [
    "import numpy as np\n",
    "from PIL import Image\n",
    "\n",
    "if __name__ == '__main__':\n",
    "    img_file = './timg.jpg'\n",
    "    \n",
    "    img = Image.open(img_file)  # 生成图片对象\n",
    "    img_L = img.convert(mode='L')  # 将图像转换为灰度图像 https://www.2cto.com/kf/201603/492898.html\n",
    "#     img.save('./L.jpg')  # 保存图像，看一下灰度图是什么样子的\n",
    "    pixels = np.array(img_L)  # 图像转换为数组\n",
    "    \n",
    "    print(pixels)\n",
    "    print(pixels.min(), pixels.max())\n",
    "    print(pixels.shape)\n",
    "    print(img.height)\n",
    "    print(img.width)\n",
    "    \n",
    "    chars = 'MNHQ$OC?7>!:-;. '  # 字符串\n",
    "    step = 255 // len(chars)  # 划分几个区间\n",
    "    result = ''\n",
    "    for i in range(img.height):  # 将数组中的值变为对应的字符，好像 pandas 有这个功能，回头找一下......\n",
    "        for j in range(img.width):\n",
    "            result += chars[pixels[i][j] // step]  # 对应字符\n",
    "        result += '\\n'  # 每行最后换行\n",
    "        \n",
    "    with open('./timg.txt', mode='w') as f:  # 将结果写入文档\n",
    "        f.write(result)"
   ]
  },
  {
   "cell_type": "code",
   "execution_count": 25,
   "metadata": {},
   "outputs": [
    {
     "data": {
      "text/plain": [
       "';'"
      ]
     },
     "execution_count": 25,
     "metadata": {},
     "output_type": "execute_result"
    }
   ],
   "source": [
    "pixels[1199][1079] // step\n",
    "chars[13]"
   ]
  }
 ],
 "metadata": {
  "kernelspec": {
   "display_name": "Python 3",
   "language": "python",
   "name": "python3"
  },
  "language_info": {
   "codemirror_mode": {
    "name": "ipython",
    "version": 3
   },
   "file_extension": ".py",
   "mimetype": "text/x-python",
   "name": "python",
   "nbconvert_exporter": "python",
   "pygments_lexer": "ipython3",
   "version": "3.6.5"
  }
 },
 "nbformat": 4,
 "nbformat_minor": 2
}
